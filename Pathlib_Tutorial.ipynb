{
 "cells": [
  {
   "cell_type": "markdown",
   "metadata": {},
   "source": [
    "# Python 3's pathlib Module"
   ]
  },
  {
   "cell_type": "markdown",
   "metadata": {},
   "source": [
    "<div class=\"alert alert-block alert-success\">\n",
    "<b>Please note:</b> The pathlib library comes by default with Python 3.4 and above\n",
    "</div>"
   ]
  },
  {
   "cell_type": "markdown",
   "metadata": {},
   "source": [
    "**Why you should consider using `pathlib`?**\n",
    "- `pathlib` makes it super easy to work with files and interact with the file system\n",
    "- `pathlib` works accross all operating systems (Windows uses \\ while Mac and Linux use / as a separator)\n",
    "- `pathlib` is treating file paths as objects"
   ]
  },
  {
   "cell_type": "markdown",
   "metadata": {},
   "source": [
    "**Importing the main class:**"
   ]
  },
  {
   "cell_type": "code",
   "execution_count": 17,
   "metadata": {},
   "outputs": [],
   "source": [
    "from pathlib import Path"
   ]
  },
  {
   "cell_type": "markdown",
   "metadata": {},
   "source": [
    "**Get the home directory**"
   ]
  },
  {
   "cell_type": "code",
   "execution_count": 18,
   "metadata": {},
   "outputs": [
    {
     "data": {
      "text/plain": [
       "WindowsPath('C:/Users/Bananatree')"
      ]
     },
     "execution_count": 18,
     "metadata": {},
     "output_type": "execute_result"
    }
   ],
   "source": [
    "home_dir = Path.home()\n",
    "home_dir"
   ]
  },
  {
   "cell_type": "markdown",
   "metadata": {},
   "source": [
    "**Get the path to the current working directory**"
   ]
  },
  {
   "cell_type": "code",
   "execution_count": 19,
   "metadata": {},
   "outputs": [
    {
     "data": {
      "text/plain": [
       "WindowsPath('C:/Users/Bananatree/Desktop/pathlib_tutorial')"
      ]
     },
     "execution_count": 19,
     "metadata": {},
     "output_type": "execute_result"
    }
   ],
   "source": [
    "cwd = Path.cwd()\n",
    "cwd"
   ]
  },
  {
   "cell_type": "markdown",
   "metadata": {},
   "source": [
    "**Get the path to the current Python file (does not work in Jupyter Notebooks)**"
   ]
  },
  {
   "cell_type": "code",
   "execution_count": 21,
   "metadata": {},
   "outputs": [],
   "source": [
    "#curr_file = Path(__file__)\n",
    "#curr_file"
   ]
  },
  {
   "cell_type": "markdown",
   "metadata": {},
   "source": [
    "**Get the first parent folder path**"
   ]
  },
  {
   "cell_type": "code",
   "execution_count": 22,
   "metadata": {},
   "outputs": [
    {
     "data": {
      "text/plain": [
       "WindowsPath('C:/Users/Bananatree/Desktop')"
      ]
     },
     "execution_count": 22,
     "metadata": {},
     "output_type": "execute_result"
    }
   ],
   "source": [
    "one_above = Path.cwd().parent \n",
    "one_above"
   ]
  },
  {
   "cell_type": "markdown",
   "metadata": {},
   "source": [
    "**Get the Nth parent folder path**"
   ]
  },
  {
   "cell_type": "code",
   "execution_count": 25,
   "metadata": {},
   "outputs": [
    {
     "data": {
      "text/plain": [
       "WindowsPath('C:/Users')"
      ]
     },
     "execution_count": 25,
     "metadata": {},
     "output_type": "execute_result"
    }
   ],
   "source": [
    "mul_above = Path.cwd().parents[2]\n",
    "mul_above"
   ]
  },
  {
   "cell_type": "markdown",
   "metadata": {},
   "source": [
    "**Join paths**"
   ]
  },
  {
   "cell_type": "code",
   "execution_count": 26,
   "metadata": {},
   "outputs": [
    {
     "data": {
      "text/plain": [
       "WindowsPath('C:/Users/Bananatree/Desktop/pathlib_tutorial/Output')"
      ]
     },
     "execution_count": 26,
     "metadata": {},
     "output_type": "execute_result"
    }
   ],
   "source": [
    "joined_path = cwd / 'Output'\n",
    "joined_path"
   ]
  },
  {
   "cell_type": "markdown",
   "metadata": {},
   "source": [
    "**Create a directory if it does not exist**"
   ]
  },
  {
   "cell_type": "code",
   "execution_count": 29,
   "metadata": {},
   "outputs": [],
   "source": [
    "joined_path.mkdir(exist_ok=True)\n",
    "# exist_ok: to ignore 'FileExistsError'if the target directory already exists"
   ]
  },
  {
   "cell_type": "markdown",
   "metadata": {},
   "source": [
    "**Check if the path is a folder**"
   ]
  },
  {
   "cell_type": "code",
   "execution_count": 30,
   "metadata": {},
   "outputs": [
    {
     "data": {
      "text/plain": [
       "True"
      ]
     },
     "execution_count": 30,
     "metadata": {},
     "output_type": "execute_result"
    }
   ],
   "source": [
    "joined_path.is_dir()"
   ]
  },
  {
   "cell_type": "markdown",
   "metadata": {},
   "source": [
    "**Check if the path is a file**"
   ]
  },
  {
   "cell_type": "code",
   "execution_count": 31,
   "metadata": {},
   "outputs": [
    {
     "data": {
      "text/plain": [
       "True"
      ]
     },
     "execution_count": 31,
     "metadata": {},
     "output_type": "execute_result"
    }
   ],
   "source": [
    "example_file = cwd / \"somefile.txt\"\n",
    "example_file.is_file()"
   ]
  },
  {
   "cell_type": "markdown",
   "metadata": {},
   "source": [
    "**Get the file name**"
   ]
  },
  {
   "cell_type": "code",
   "execution_count": 32,
   "metadata": {},
   "outputs": [
    {
     "data": {
      "text/plain": [
       "'somefile.txt'"
      ]
     },
     "execution_count": 32,
     "metadata": {},
     "output_type": "execute_result"
    }
   ],
   "source": [
    "file_name = example_file.name\n",
    "file_name"
   ]
  },
  {
   "cell_type": "markdown",
   "metadata": {},
   "source": [
    "**Get the file name w/o extension**"
   ]
  },
  {
   "cell_type": "code",
   "execution_count": 33,
   "metadata": {},
   "outputs": [
    {
     "data": {
      "text/plain": [
       "'somefile'"
      ]
     },
     "execution_count": 33,
     "metadata": {},
     "output_type": "execute_result"
    }
   ],
   "source": [
    "file_name = example_file.stem\n",
    "file_name"
   ]
  },
  {
   "cell_type": "markdown",
   "metadata": {},
   "source": [
    "**Get the file extension**"
   ]
  },
  {
   "cell_type": "code",
   "execution_count": 34,
   "metadata": {},
   "outputs": [
    {
     "data": {
      "text/plain": [
       "'.txt'"
      ]
     },
     "execution_count": 34,
     "metadata": {},
     "output_type": "execute_result"
    }
   ],
   "source": [
    "file_extension = example_file.suffix\n",
    "file_extension"
   ]
  },
  {
   "cell_type": "markdown",
   "metadata": {},
   "source": [
    "**Iterate over files in a directory**"
   ]
  },
  {
   "cell_type": "code",
   "execution_count": 40,
   "metadata": {},
   "outputs": [
    {
     "name": "stdout",
     "output_type": "stream",
     "text": [
      "C:\\Users\\Bananatree\\Desktop\\pathlib_tutorial\\Sample Files\\desktop.ini\n",
      "C:\\Users\\Bananatree\\Desktop\\pathlib_tutorial\\Sample Files\\More_Samples\n",
      "C:\\Users\\Bananatree\\Desktop\\pathlib_tutorial\\Sample Files\\Sample_Photo.png\n",
      "C:\\Users\\Bananatree\\Desktop\\pathlib_tutorial\\Sample Files\\Sample_TextFile.txt\n",
      "C:\\Users\\Bananatree\\Desktop\\pathlib_tutorial\\Sample Files\\Sample_Workbook.xlsx\n",
      "C:\\Users\\Bananatree\\Desktop\\pathlib_tutorial\\Sample Files\\Sample_Workbook_1.xlsx\n",
      "C:\\Users\\Bananatree\\Desktop\\pathlib_tutorial\\Sample Files\\Sample_Workbook_2.xlsx\n",
      "C:\\Users\\Bananatree\\Desktop\\pathlib_tutorial\\Sample Files\\Sample_Workbook_3.xlsx\n"
     ]
    }
   ],
   "source": [
    "target_dir = cwd / \"Sample Files\"\n",
    "for file in target_dir.iterdir():\n",
    "    print(file)"
   ]
  },
  {
   "cell_type": "markdown",
   "metadata": {},
   "source": [
    "**Iterate over files in a directory combined with suffix**"
   ]
  },
  {
   "cell_type": "code",
   "execution_count": 39,
   "metadata": {},
   "outputs": [
    {
     "name": "stdout",
     "output_type": "stream",
     "text": [
      "C:\\Users\\Bananatree\\Desktop\\pathlib_tutorial\\Sample Files\\Sample_Workbook.xlsx\n",
      "C:\\Users\\Bananatree\\Desktop\\pathlib_tutorial\\Sample Files\\Sample_Workbook_1.xlsx\n",
      "C:\\Users\\Bananatree\\Desktop\\pathlib_tutorial\\Sample Files\\Sample_Workbook_2.xlsx\n",
      "C:\\Users\\Bananatree\\Desktop\\pathlib_tutorial\\Sample Files\\Sample_Workbook_3.xlsx\n"
     ]
    }
   ],
   "source": [
    "for file in target_dir.iterdir():\n",
    "    if file.suffix == \".xlsx\":\n",
    "        print(file)"
   ]
  },
  {
   "cell_type": "markdown",
   "metadata": {},
   "source": [
    "**Iterate over files in a directory incl. sub folder(s)**"
   ]
  },
  {
   "cell_type": "code",
   "execution_count": 38,
   "metadata": {},
   "outputs": [
    {
     "name": "stdout",
     "output_type": "stream",
     "text": [
      "C:\\Users\\Bananatree\\Desktop\\pathlib_tutorial\\Sample Files\\desktop.ini\n",
      "C:\\Users\\Bananatree\\Desktop\\pathlib_tutorial\\Sample Files\\More_Samples\n",
      "C:\\Users\\Bananatree\\Desktop\\pathlib_tutorial\\Sample Files\\Sample_Photo.png\n",
      "C:\\Users\\Bananatree\\Desktop\\pathlib_tutorial\\Sample Files\\Sample_TextFile.txt\n",
      "C:\\Users\\Bananatree\\Desktop\\pathlib_tutorial\\Sample Files\\Sample_Workbook.xlsx\n",
      "C:\\Users\\Bananatree\\Desktop\\pathlib_tutorial\\Sample Files\\Sample_Workbook_1.xlsx\n",
      "C:\\Users\\Bananatree\\Desktop\\pathlib_tutorial\\Sample Files\\Sample_Workbook_2.xlsx\n",
      "C:\\Users\\Bananatree\\Desktop\\pathlib_tutorial\\Sample Files\\Sample_Workbook_3.xlsx\n",
      "C:\\Users\\Bananatree\\Desktop\\pathlib_tutorial\\Sample Files\\More_Samples\\Sample_Workbook_4.xlsx\n",
      "C:\\Users\\Bananatree\\Desktop\\pathlib_tutorial\\Sample Files\\More_Samples\\Sample_Workbook_5.xlsx\n",
      "C:\\Users\\Bananatree\\Desktop\\pathlib_tutorial\\Sample Files\\More_Samples\\Sample_Workbook_6.xlsx\n"
     ]
    }
   ],
   "source": [
    "for file in target_dir.rglob(\"*\"):\n",
    "    print(file)"
   ]
  },
  {
   "cell_type": "markdown",
   "metadata": {},
   "source": [
    "<div class=\"alert alert-block alert-info\">\n",
    "<h4>📚 Further reading:</h4>\n",
    "<ul>\n",
    "  <li>https://realpython.com/python-pathlib/</li>\n",
    "  <li>https://docs.python.org/3/library/pathlib.html</li>\n",
    "</ul>\n",
    "</div>"
   ]
  }
 ],
 "metadata": {
  "kernelspec": {
   "display_name": "Python 3",
   "language": "python",
   "name": "python3"
  },
  "language_info": {
   "codemirror_mode": {
    "name": "ipython",
    "version": 3
   },
   "file_extension": ".py",
   "mimetype": "text/x-python",
   "name": "python",
   "nbconvert_exporter": "python",
   "pygments_lexer": "ipython3",
   "version": "3.8.5"
  }
 },
 "nbformat": 4,
 "nbformat_minor": 4
}
